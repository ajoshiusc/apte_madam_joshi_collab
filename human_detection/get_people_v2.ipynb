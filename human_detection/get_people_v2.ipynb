{
 "cells": [
  {
   "cell_type": "code",
   "execution_count": null,
   "metadata": {},
   "outputs": [],
   "source": [
    "import cv2\n",
    "import os\n",
    "from matplotlib import pyplot as plt\n",
    "\n",
    "# Load the pre-trained human detection model\n",
    "hog = cv2.HOGDescriptor()\n",
    "hog.setSVMDetector(cv2.HOGDescriptor_getDefaultPeopleDetector())\n",
    "\n",
    "# Load the input image\n",
    "input_image_path = 'Tp_D_CRN_M_N_sec00015_cha00086_11400.jpg'#\n",
    "input_image_path ='Tp_D_CRN_S_N_nat00033_cha00086_11502.jpg'#\n",
    "input_image_path='Tp_D_CRN_M_N_nat10129_cha00086_11522.jpg'\n",
    "image = cv2.imread(input_image_path)\n",
    "\n",
    "# Create a directory to save the cropped images\n",
    "output_dir = input_image_path[:-4]\n",
    "os.makedirs(output_dir, exist_ok=True)\n",
    "\n",
    "#image1 = cv2.cvtColor(image, cv2.COLOR_BGR2GRAY)\n",
    "# Detect humans in the image\n",
    "human_rectangles, _ = hog.detectMultiScale(image,winStride=(2, 2), padding=(10, 10))#, scale=1.02)\n",
    "\n",
    "# Iterate through the detected human rectangles and crop & save the images\n",
    "for i, (x, y, w, h) in enumerate(human_rectangles):\n",
    "    # Crop the image around the detected human\n",
    "    cropped_image = image[y:y+h, x:x+w]\n",
    "    \n",
    "    # Define the output file path\n",
    "    output_image_path = os.path.join(output_dir, f'cropped_human_{i}.jpg')\n",
    "\n",
    "    # Save the cropped image as a separate JPG file\n",
    "    cv2.imwrite(output_image_path, cropped_image)\n",
    "\n",
    "# Display the number of cropped images\n",
    "print(f\"Total {len(human_rectangles)} human(s) detected and saved as separate images.\")\n",
    "\n",
    "# Close any open windows\n",
    "cv2.destroyAllWindows()\n",
    "\n",
    "\n",
    "for (x, y, w, h) in human_rectangles:\n",
    "   pad_w, pad_h = int(0.15 * w), int(0.01 * h)\n",
    "   cv2.rectangle(image, (x + pad_w, y + pad_h), (x + w - pad_w, y + h - pad_h), (0, 255, 0), 2)\n",
    "\n",
    "plt.imshow(image[:,:,::-1])\n",
    "plt.show()\n",
    "\n",
    "\n"
   ]
  }
 ],
 "metadata": {
  "kernelspec": {
   "display_name": "base",
   "language": "python",
   "name": "python3"
  },
  "language_info": {
   "codemirror_mode": {
    "name": "ipython",
    "version": 3
   },
   "file_extension": ".py",
   "mimetype": "text/x-python",
   "name": "python",
   "nbconvert_exporter": "python",
   "pygments_lexer": "ipython3",
   "version": "3.11.5"
  },
  "orig_nbformat": 4
 },
 "nbformat": 4,
 "nbformat_minor": 2
}
